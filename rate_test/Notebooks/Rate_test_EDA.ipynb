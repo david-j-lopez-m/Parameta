{
 "cells": [
  {
   "cell_type": "markdown",
   "id": "b718d233-35ea-437f-b48b-d46b1c228875",
   "metadata": {},
   "source": [
    "# Rate_test EDA"
   ]
  },
  {
   "cell_type": "markdown",
   "id": "1c6e40f5-ffb6-492b-b07e-417931764b42",
   "metadata": {},
   "source": [
    "## Import librarires"
   ]
  },
  {
   "cell_type": "code",
   "execution_count": 5,
   "id": "d38065ef-2105-4a0a-b08f-d69b92ed6623",
   "metadata": {},
   "outputs": [],
   "source": [
    "import pandas as pd\n",
    "import numpy as np\n",
    "\n",
    "from pathlib import Path"
   ]
  },
  {
   "cell_type": "markdown",
   "id": "f9a2bb8f-76d4-4ca8-954b-d135066175a3",
   "metadata": {},
   "source": [
    "## Load data"
   ]
  },
  {
   "cell_type": "code",
   "execution_count": 4,
   "id": "b53dd947-2c86-40a7-a22f-78ccc232db56",
   "metadata": {},
   "outputs": [
    {
     "data": {
      "text/plain": [
       "'/Users/davidjavierlopezmartin/Documents/Github/Parameta/rate_test/Notebooks'"
      ]
     },
     "execution_count": 4,
     "metadata": {},
     "output_type": "execute_result"
    }
   ],
   "source": [
    "import os\n",
    "os.getcwd()"
   ]
  },
  {
   "cell_type": "code",
   "execution_count": 10,
   "id": "d79332bb-98f6-4969-8b7e-6ec2256a6fd8",
   "metadata": {},
   "outputs": [],
   "source": [
    "# Define base path relative to the current notebook location\n",
    "data_path = Path(\"..\") / \"data\"\n",
    "\n",
    "# Define file paths\n",
    "ccy_file = data_path / \"rates_ccy_data.csv\"\n",
    "price_file = data_path / \"rates_price_data.parq.gzip\"\n",
    "spot_file = data_path / \"rates_spot_rate_data.parq.gzip\"\n",
    "\n",
    "# Load datasets\n",
    "ccy_data = pd.read_csv(ccy_file)\n",
    "price_data = pd.read_parquet(price_file)\n",
    "spot_data = pd.read_parquet(spot_file)\n",
    "\n",
    "# Ensure timestamp columns are in datetime format\n",
    "price_data['timestamp'] = pd.to_datetime(price_data['timestamp'])\n",
    "spot_data['timestamp'] = pd.to_datetime(spot_data['timestamp'])"
   ]
  },
  {
   "cell_type": "markdown",
   "id": "7f156d12-fd27-406c-bae3-933ccecab4e9",
   "metadata": {},
   "source": [
    "# EDA"
   ]
  },
  {
   "cell_type": "markdown",
   "id": "16ae8d15-9685-4b8b-b86c-048b2cb6e0ba",
   "metadata": {},
   "source": [
    "### ccy data"
   ]
  },
  {
   "cell_type": "code",
   "execution_count": 11,
   "id": "019688b9-d8d2-4de9-88fb-a1d5d41c6022",
   "metadata": {},
   "outputs": [
    {
     "data": {
      "text/html": [
       "<div>\n",
       "<style scoped>\n",
       "    .dataframe tbody tr th:only-of-type {\n",
       "        vertical-align: middle;\n",
       "    }\n",
       "\n",
       "    .dataframe tbody tr th {\n",
       "        vertical-align: top;\n",
       "    }\n",
       "\n",
       "    .dataframe thead th {\n",
       "        text-align: right;\n",
       "    }\n",
       "</style>\n",
       "<table border=\"1\" class=\"dataframe\">\n",
       "  <thead>\n",
       "    <tr style=\"text-align: right;\">\n",
       "      <th></th>\n",
       "      <th>ccy_pair</th>\n",
       "      <th>convert_price</th>\n",
       "      <th>conversion_factor</th>\n",
       "    </tr>\n",
       "  </thead>\n",
       "  <tbody>\n",
       "    <tr>\n",
       "      <th>0</th>\n",
       "      <td>USDVND</td>\n",
       "      <td>True</td>\n",
       "      <td>10.0</td>\n",
       "    </tr>\n",
       "    <tr>\n",
       "      <th>1</th>\n",
       "      <td>USDUAH</td>\n",
       "      <td>False</td>\n",
       "      <td>NaN</td>\n",
       "    </tr>\n",
       "    <tr>\n",
       "      <th>2</th>\n",
       "      <td>USDTWD</td>\n",
       "      <td>False</td>\n",
       "      <td>NaN</td>\n",
       "    </tr>\n",
       "    <tr>\n",
       "      <th>3</th>\n",
       "      <td>USDRUB</td>\n",
       "      <td>False</td>\n",
       "      <td>NaN</td>\n",
       "    </tr>\n",
       "    <tr>\n",
       "      <th>4</th>\n",
       "      <td>USDPHP</td>\n",
       "      <td>False</td>\n",
       "      <td>NaN</td>\n",
       "    </tr>\n",
       "  </tbody>\n",
       "</table>\n",
       "</div>"
      ],
      "text/plain": [
       "  ccy_pair  convert_price  conversion_factor\n",
       "0   USDVND           True               10.0\n",
       "1   USDUAH          False                NaN\n",
       "2   USDTWD          False                NaN\n",
       "3   USDRUB          False                NaN\n",
       "4   USDPHP          False                NaN"
      ]
     },
     "execution_count": 11,
     "metadata": {},
     "output_type": "execute_result"
    }
   ],
   "source": [
    "ccy_data.head()"
   ]
  },
  {
   "cell_type": "code",
   "execution_count": 20,
   "id": "57c8bb22-4313-48ea-8354-4e437442291d",
   "metadata": {},
   "outputs": [
    {
     "name": "stdout",
     "output_type": "stream",
     "text": [
      "All currency pairs are unique.\n"
     ]
    }
   ],
   "source": [
    "# Check for duplicated currency pairs\n",
    "duplicates = ccy_data[ccy_data.duplicated(subset=['ccy_pair'], keep=False)]\n",
    "\n",
    "# Display duplicates if any\n",
    "if not duplicates.empty:\n",
    "    print(\"Duplicated currency pairs found:\")\n",
    "    display(duplicates)\n",
    "else:\n",
    "    print(\"All currency pairs are unique.\")"
   ]
  },
  {
   "cell_type": "code",
   "execution_count": 23,
   "id": "f1f4726b-5b0e-476d-967d-639f8053ae2f",
   "metadata": {},
   "outputs": [
    {
     "name": "stdout",
     "output_type": "stream",
     "text": [
      "There are  57 which requires conversion\n"
     ]
    }
   ],
   "source": [
    "print(\"There are \", ccy_data.convert_price.value_counts()[0], \"which requires conversion\")"
   ]
  },
  {
   "cell_type": "code",
   "execution_count": 19,
   "id": "4eac6fc9-db64-4a9f-bb2b-534d17b3045f",
   "metadata": {},
   "outputs": [
    {
     "data": {
      "text/html": [
       "<div>\n",
       "<style scoped>\n",
       "    .dataframe tbody tr th:only-of-type {\n",
       "        vertical-align: middle;\n",
       "    }\n",
       "\n",
       "    .dataframe tbody tr th {\n",
       "        vertical-align: top;\n",
       "    }\n",
       "\n",
       "    .dataframe thead th {\n",
       "        text-align: right;\n",
       "    }\n",
       "</style>\n",
       "<table border=\"1\" class=\"dataframe\">\n",
       "  <thead>\n",
       "    <tr style=\"text-align: right;\">\n",
       "      <th></th>\n",
       "      <th>ccy_pair</th>\n",
       "      <th>convert_price</th>\n",
       "      <th>conversion_factor</th>\n",
       "    </tr>\n",
       "  </thead>\n",
       "  <tbody>\n",
       "  </tbody>\n",
       "</table>\n",
       "</div>"
      ],
      "text/plain": [
       "Empty DataFrame\n",
       "Columns: [ccy_pair, convert_price, conversion_factor]\n",
       "Index: []"
      ]
     },
     "execution_count": 19,
     "metadata": {},
     "output_type": "execute_result"
    }
   ],
   "source": [
    "# Check if any pair that requires convert price has is corresponding conversion factor\n",
    "ccy_data[(ccy_data.convert_price == True) & (ccy_data.conversion_factor.isna() == True)]"
   ]
  },
  {
   "cell_type": "markdown",
   "id": "4e00b264-7d44-46fb-99aa-8b966475a440",
   "metadata": {},
   "source": [
    "### price data"
   ]
  },
  {
   "cell_type": "code",
   "execution_count": 14,
   "id": "8dc3d4b1-25fc-4f19-af0e-3f51e0ba7c94",
   "metadata": {},
   "outputs": [
    {
     "data": {
      "text/plain": [
       "(13404, 4)"
      ]
     },
     "execution_count": 14,
     "metadata": {},
     "output_type": "execute_result"
    }
   ],
   "source": [
    "price_data.shape"
   ]
  },
  {
   "cell_type": "code",
   "execution_count": 12,
   "id": "749e0995-9988-477b-af4e-bf3b0b39473a",
   "metadata": {},
   "outputs": [
    {
     "data": {
      "text/html": [
       "<div>\n",
       "<style scoped>\n",
       "    .dataframe tbody tr th:only-of-type {\n",
       "        vertical-align: middle;\n",
       "    }\n",
       "\n",
       "    .dataframe tbody tr th {\n",
       "        vertical-align: top;\n",
       "    }\n",
       "\n",
       "    .dataframe thead th {\n",
       "        text-align: right;\n",
       "    }\n",
       "</style>\n",
       "<table border=\"1\" class=\"dataframe\">\n",
       "  <thead>\n",
       "    <tr style=\"text-align: right;\">\n",
       "      <th></th>\n",
       "      <th>timestamp</th>\n",
       "      <th>security_id</th>\n",
       "      <th>price</th>\n",
       "      <th>ccy_pair</th>\n",
       "    </tr>\n",
       "    <tr>\n",
       "      <th>index</th>\n",
       "      <th></th>\n",
       "      <th></th>\n",
       "      <th></th>\n",
       "      <th></th>\n",
       "    </tr>\n",
       "  </thead>\n",
       "  <tbody>\n",
       "    <tr>\n",
       "      <th>0</th>\n",
       "      <td>2021-12-10 07:38:07.198474</td>\n",
       "      <td>id_0</td>\n",
       "      <td>23156.00</td>\n",
       "      <td>USDVND</td>\n",
       "    </tr>\n",
       "    <tr>\n",
       "      <th>1</th>\n",
       "      <td>2021-12-10 07:38:07.198474</td>\n",
       "      <td>id_0</td>\n",
       "      <td>23307.00</td>\n",
       "      <td>USDVND</td>\n",
       "    </tr>\n",
       "    <tr>\n",
       "      <th>2</th>\n",
       "      <td>2021-12-10 07:38:06.918476</td>\n",
       "      <td>id_1</td>\n",
       "      <td>23060.00</td>\n",
       "      <td>USDVND</td>\n",
       "    </tr>\n",
       "    <tr>\n",
       "      <th>3</th>\n",
       "      <td>2021-12-10 07:38:06.918476</td>\n",
       "      <td>id_1</td>\n",
       "      <td>23100.00</td>\n",
       "      <td>USDVND</td>\n",
       "    </tr>\n",
       "    <tr>\n",
       "      <th>4</th>\n",
       "      <td>2021-12-10 17:09:32.767598</td>\n",
       "      <td>id_2</td>\n",
       "      <td>29.25</td>\n",
       "      <td>USDUAH</td>\n",
       "    </tr>\n",
       "  </tbody>\n",
       "</table>\n",
       "</div>"
      ],
      "text/plain": [
       "                       timestamp security_id     price ccy_pair\n",
       "index                                                          \n",
       "0     2021-12-10 07:38:07.198474        id_0  23156.00   USDVND\n",
       "1     2021-12-10 07:38:07.198474        id_0  23307.00   USDVND\n",
       "2     2021-12-10 07:38:06.918476        id_1  23060.00   USDVND\n",
       "3     2021-12-10 07:38:06.918476        id_1  23100.00   USDVND\n",
       "4     2021-12-10 17:09:32.767598        id_2     29.25   USDUAH"
      ]
     },
     "execution_count": 12,
     "metadata": {},
     "output_type": "execute_result"
    }
   ],
   "source": [
    "price_data.head()"
   ]
  },
  {
   "cell_type": "code",
   "execution_count": 13,
   "id": "b0c0e21a-44f3-4711-af27-163ac0e43b2e",
   "metadata": {},
   "outputs": [
    {
     "data": {
      "text/html": [
       "<div>\n",
       "<style scoped>\n",
       "    .dataframe tbody tr th:only-of-type {\n",
       "        vertical-align: middle;\n",
       "    }\n",
       "\n",
       "    .dataframe tbody tr th {\n",
       "        vertical-align: top;\n",
       "    }\n",
       "\n",
       "    .dataframe thead th {\n",
       "        text-align: right;\n",
       "    }\n",
       "</style>\n",
       "<table border=\"1\" class=\"dataframe\">\n",
       "  <thead>\n",
       "    <tr style=\"text-align: right;\">\n",
       "      <th></th>\n",
       "      <th>timestamp</th>\n",
       "      <th>ccy_pair</th>\n",
       "      <th>spot_mid_rate</th>\n",
       "    </tr>\n",
       "  </thead>\n",
       "  <tbody>\n",
       "    <tr>\n",
       "      <th>0</th>\n",
       "      <td>2021-12-08 20:05:56.818066</td>\n",
       "      <td>EURRSD</td>\n",
       "      <td>117.57850</td>\n",
       "    </tr>\n",
       "    <tr>\n",
       "      <th>1</th>\n",
       "      <td>2021-12-08 21:41:10.084411</td>\n",
       "      <td>AUDCHF</td>\n",
       "      <td>0.66000</td>\n",
       "    </tr>\n",
       "    <tr>\n",
       "      <th>2</th>\n",
       "      <td>2021-12-09 17:20:34.180273</td>\n",
       "      <td>USDCNH</td>\n",
       "      <td>6.37819</td>\n",
       "    </tr>\n",
       "    <tr>\n",
       "      <th>3</th>\n",
       "      <td>2021-12-09 19:25:27.575882</td>\n",
       "      <td>AUDNZD</td>\n",
       "      <td>1.05340</td>\n",
       "    </tr>\n",
       "    <tr>\n",
       "      <th>4</th>\n",
       "      <td>2021-12-09 11:23:23.262809</td>\n",
       "      <td>EURRON</td>\n",
       "      <td>4.94970</td>\n",
       "    </tr>\n",
       "  </tbody>\n",
       "</table>\n",
       "</div>"
      ],
      "text/plain": [
       "                   timestamp ccy_pair  spot_mid_rate\n",
       "0 2021-12-08 20:05:56.818066   EURRSD      117.57850\n",
       "1 2021-12-08 21:41:10.084411   AUDCHF        0.66000\n",
       "2 2021-12-09 17:20:34.180273   USDCNH        6.37819\n",
       "3 2021-12-09 19:25:27.575882   AUDNZD        1.05340\n",
       "4 2021-12-09 11:23:23.262809   EURRON        4.94970"
      ]
     },
     "execution_count": 13,
     "metadata": {},
     "output_type": "execute_result"
    }
   ],
   "source": [
    "spot_data.head()"
   ]
  },
  {
   "cell_type": "code",
   "execution_count": null,
   "id": "6a4ed5a3-f939-4134-8e85-e9edd3771e68",
   "metadata": {},
   "outputs": [],
   "source": []
  }
 ],
 "metadata": {
  "kernelspec": {
   "display_name": "Python 3 (ipykernel)",
   "language": "python",
   "name": "python3"
  },
  "language_info": {
   "codemirror_mode": {
    "name": "ipython",
    "version": 3
   },
   "file_extension": ".py",
   "mimetype": "text/x-python",
   "name": "python",
   "nbconvert_exporter": "python",
   "pygments_lexer": "ipython3",
   "version": "3.9.13"
  }
 },
 "nbformat": 4,
 "nbformat_minor": 5
}
